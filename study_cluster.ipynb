{
  "nbformat": 4,
  "nbformat_minor": 0,
  "metadata": {
    "colab": {
      "name": "study.cluster",
      "provenance": [],
      "authorship_tag": "ABX9TyPP3zUth7p2ymPwb3yCN4/b",
      "include_colab_link": true
    },
    "kernelspec": {
      "name": "python3",
      "display_name": "Python 3"
    }
  },
  "cells": [
    {
      "cell_type": "markdown",
      "metadata": {
        "id": "view-in-github",
        "colab_type": "text"
      },
      "source": [
        "<a href=\"https://colab.research.google.com/github/wilkson-carlos/data-science-starting/blob/master/study_cluster.ipynb\" target=\"_parent\"><img src=\"https://colab.research.google.com/assets/colab-badge.svg\" alt=\"Open In Colab\"/></a>"
      ]
    },
    {
      "cell_type": "code",
      "metadata": {
        "id": "GOwF3mY8WF8C",
        "colab_type": "code",
        "colab": {}
      },
      "source": [
        "import pandas as pd\n",
        "import matplotlib.pyplot as plt\n",
        "from sklearn.cluster import KMeans"
      ],
      "execution_count": 0,
      "outputs": []
    },
    {
      "cell_type": "code",
      "metadata": {
        "id": "J67FCSZOm6QB",
        "colab_type": "code",
        "colab": {}
      },
      "source": [
        "df2 = pd.read_csv(\"./arquivo.csv\")"
      ],
      "execution_count": 0,
      "outputs": []
    },
    {
      "cell_type": "code",
      "metadata": {
        "id": "yGVVoVE1alAm",
        "colab_type": "code",
        "colab": {
          "base_uri": "https://localhost:8080/",
          "height": 204
        },
        "outputId": "a51e993b-b183-4944-9f60-fd5950cc15c2"
      },
      "source": [
        "df = pd.read_excel(\"./normal.xlsx\")\n",
        "print(df)"
      ],
      "execution_count": 83,
      "outputs": [
        {
          "output_type": "stream",
          "text": [
            "   Peso  Altura\n",
            "0   140    1.80\n",
            "1   110    2.20\n",
            "2   130    2.00\n",
            "3    50    1.30\n",
            "4    80    1.56\n",
            "5   100    1.76\n",
            "6    65    1.45\n",
            "7    67    1.67\n",
            "8   110    1.77\n",
            "9    12    0.84\n"
          ],
          "name": "stdout"
        }
      ]
    },
    {
      "cell_type": "code",
      "metadata": {
        "id": "fSSldvhhfcb-",
        "colab_type": "code",
        "colab": {
          "base_uri": "https://localhost:8080/",
          "height": 265
        },
        "outputId": "55a0ee1d-6bcf-4adb-ca3c-ffcdbdc7570a"
      },
      "source": [
        "plt.scatter(df['Peso'], df['Altura'])\n",
        "plt.show()"
      ],
      "execution_count": 84,
      "outputs": [
        {
          "output_type": "display_data",
          "data": {
            "image/png": "[encoded data removed]",
            "text/plain": [
              "<Figure size 432x288 with 1 Axes>"
            ]
          },
          "metadata": {
            "tags": [],
            "needs_background": "light"
          }
        }
      ]
    },
    {
      "cell_type": "code",
      "metadata": {
        "id": "zrsbdoCbfuwS",
        "colab_type": "code",
        "colab": {
          "base_uri": "https://localhost:8080/",
          "height": 34
        },
        "outputId": "06c4ed43-7ebd-446d-f04a-7fb76bf55774"
      },
      "source": [
        "kmeans = KMeans(n_clusters=2,random_state=0)\n",
        "kmeans.fit(df)\n",
        "df['cluster'] = kmeans.labels_\n",
        "print(kmeans.labels_)"
      ],
      "execution_count": 85,
      "outputs": [
        {
          "output_type": "stream",
          "text": [
            "[1 1 1 0 0 1 0 0 1 0]\n"
          ],
          "name": "stdout"
        }
      ]
    },
    {
      "cell_type": "code",
      "metadata": {
        "id": "l1Qd6lc2gPpk",
        "colab_type": "code",
        "colab": {
          "base_uri": "https://localhost:8080/",
          "height": 282
        },
        "outputId": "8e447b5e-5d6c-4a8b-937b-27d9e441936a"
      },
      "source": [
        "plt.scatter(df['Peso'], df['Altura'], c=df['cluster'])"
      ],
      "execution_count": 86,
      "outputs": [
        {
          "output_type": "execute_result",
          "data": {
            "text/plain": [
              "<matplotlib.collections.PathCollection at 0x7f557b2d6c50>"
            ]
          },
          "metadata": {
            "tags": []
          },
          "execution_count": 86
        },
        {
          "output_type": "display_data",
          "data": {
            "image/png": "[encoded data removed]",
            "text/plain": [
              "<Figure size 432x288 with 1 Axes>"
            ]
          },
          "metadata": {
            "tags": [],
            "needs_background": "light"
          }
        }
      ]
    },
    {
      "cell_type": "markdown",
      "metadata": {
        "id": "4aHGLcb8oKbp",
        "colab_type": "text"
      },
      "source": [
        "##Plot Kmeans csv arquivo\n"
      ]
    },
    {
      "cell_type": "code",
      "metadata": {
        "id": "kG7u54gRnHjm",
        "colab_type": "code",
        "colab": {
          "base_uri": "https://localhost:8080/",
          "height": 265
        },
        "outputId": "754ac368-9378-49dd-eaf5-3fbad2c32df1"
      },
      "source": [
        "kmeans2 = KMeans(n_clusters=2,random_state=0)\n",
        "kmeans2.fit(df2)\n",
        "df2['cluster'] = kmeans2.labels_\n",
        "\n",
        "centroides2 = kmeans2.cluster_centers_\n",
        "plt.scatter(df2['a'], df2['b'], c=df2['cluster'])\n",
        "plt.plot (centroides2[:,0], centroides2[:,1],'rD')\n",
        "plt.show()"
      ],
      "execution_count": 75,
      "outputs": [
        {
          "output_type": "display_data",
          "data": {
            "image/png": "[encoded data removed]",
            "text/plain": [
              "<Figure size 432x288 with 1 Axes>"
            ]
          },
          "metadata": {
            "tags": [],
            "needs_background": "light"
          }
        }
      ]
    },
    {
      "cell_type": "markdown",
      "metadata": {
        "id": "rH9KEBmmoSRD",
        "colab_type": "text"
      },
      "source": [
        "##Plot Kmeans excel normal\n"
      ]
    },
    {
      "cell_type": "code",
      "metadata": {
        "id": "ccWm5uVMhj2c",
        "colab_type": "code",
        "colab": {
          "base_uri": "https://localhost:8080/",
          "height": 282
        },
        "outputId": "2b892962-cb1e-41a9-faf0-9a250688a872"
      },
      "source": [
        "centroides = kmeans.cluster_centers_\n",
        "plt.scatter(df['Peso'], df['Altura'], c=df['cluster'])\n",
        "plt.plot (centroides[:,0], centroides[:,1],'rD')\n",
        "plt.plot([20,140,80],[1,2,2.2],\"k. \")\n",
        "plt.show()\n",
        "print ('Elemento: (20,1), (140,2), (80,2): ', kmeans.predict([[20,1],[140,2],[80,2.2]]))"
      ],
      "execution_count": 87,
      "outputs": [
        {
          "output_type": "display_data",
          "data": {
            "image/png": "[encoded data removed]",
            "text/plain": [
              "<Figure size 432x288 with 1 Axes>"
            ]
          },
          "metadata": {
            "tags": [],
            "needs_background": "light"
          }
        },
        {
          "output_type": "stream",
          "text": [
            "Elemento: (20,1), (140,2), (80,2):  [0 1 0]\n"
          ],
          "name": "stdout"
        }
      ]
    },
    {
      "cell_type": "code",
      "metadata": {
        "id": "NYTbFJB1idlK",
        "colab_type": "code",
        "colab": {}
      },
      "source": [
        ""
      ],
      "execution_count": 0,
      "outputs": []
    }
  ]
}