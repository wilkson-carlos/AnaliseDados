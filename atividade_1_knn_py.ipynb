{
  "nbformat": 4,
  "nbformat_minor": 0,
  "metadata": {
    "colab": {
      "name": "atividade_1_knn.py",
      "provenance": [],
      "authorship_tag": "ABX9TyOjN3+iKFJqtG1d+BMS8xNo",
      "include_colab_link": true
    },
    "kernelspec": {
      "name": "python3",
      "display_name": "Python 3"
    }
  },
  "cells": [
    {
      "cell_type": "markdown",
      "metadata": {
        "id": "view-in-github",
        "colab_type": "text"
      },
      "source": [
        "<a href=\"https://colab.research.google.com/github/wilkson-carlos/data-science-starting/blob/master/atividade_1_knn_py.ipynb\" target=\"_parent\"><img src=\"https://colab.research.google.com/assets/colab-badge.svg\" alt=\"Open In Colab\"/></a>"
      ]
    },
    {
      "cell_type": "code",
      "metadata": {
        "id": "xG3CWzxG4QBC",
        "colab_type": "code",
        "colab": {}
      },
      "source": [
        "import pandas as pd\n",
        "import matplotlib.pyplot as plt\n",
        "import numpy as np\n",
        "from sklearn.neighbors import KNeighborsClassifier\n",
        "from sklearn.model_selection import train_test_split"
      ],
      "execution_count": null,
      "outputs": []
    },
    {
      "cell_type": "code",
      "metadata": {
        "id": "LU8zH9uP4azY",
        "colab_type": "code",
        "colab": {
          "base_uri": "https://localhost:8080/",
          "height": 204
        },
        "outputId": "ff575f64-2062-442d-bfbb-9b957e10fc4b"
      },
      "source": [
        "df = pd.read_csv('sample_data/imc1.csv')\n",
        "df.head()"
      ],
      "execution_count": null,
      "outputs": [
        {
          "output_type": "execute_result",
          "data": {
            "text/html": [
              "<div>\n",
              "<style scoped>\n",
              "    .dataframe tbody tr th:only-of-type {\n",
              "        vertical-align: middle;\n",
              "    }\n",
              "\n",
              "    .dataframe tbody tr th {\n",
              "        vertical-align: top;\n",
              "    }\n",
              "\n",
              "    .dataframe thead th {\n",
              "        text-align: right;\n",
              "    }\n",
              "</style>\n",
              "<table border=\"1\" class=\"dataframe\">\n",
              "  <thead>\n",
              "    <tr style=\"text-align: right;\">\n",
              "      <th></th>\n",
              "      <th>altura</th>\n",
              "      <th>peso</th>\n",
              "      <th>imc</th>\n",
              "      <th>classificacao</th>\n",
              "    </tr>\n",
              "  </thead>\n",
              "  <tbody>\n",
              "    <tr>\n",
              "      <th>0</th>\n",
              "      <td>1.0</td>\n",
              "      <td>20.0</td>\n",
              "      <td>20.0</td>\n",
              "      <td>1.0</td>\n",
              "    </tr>\n",
              "    <tr>\n",
              "      <th>1</th>\n",
              "      <td>1.0</td>\n",
              "      <td>22.0</td>\n",
              "      <td>22.0</td>\n",
              "      <td>1.0</td>\n",
              "    </tr>\n",
              "    <tr>\n",
              "      <th>2</th>\n",
              "      <td>1.0</td>\n",
              "      <td>24.0</td>\n",
              "      <td>24.0</td>\n",
              "      <td>1.0</td>\n",
              "    </tr>\n",
              "    <tr>\n",
              "      <th>3</th>\n",
              "      <td>1.0</td>\n",
              "      <td>26.0</td>\n",
              "      <td>26.0</td>\n",
              "      <td>2.0</td>\n",
              "    </tr>\n",
              "    <tr>\n",
              "      <th>4</th>\n",
              "      <td>1.0</td>\n",
              "      <td>28.0</td>\n",
              "      <td>28.0</td>\n",
              "      <td>2.0</td>\n",
              "    </tr>\n",
              "  </tbody>\n",
              "</table>\n",
              "</div>"
            ],
            "text/plain": [
              "   altura  peso   imc  classificacao\n",
              "0     1.0  20.0  20.0            1.0\n",
              "1     1.0  22.0  22.0            1.0\n",
              "2     1.0  24.0  24.0            1.0\n",
              "3     1.0  26.0  26.0            2.0\n",
              "4     1.0  28.0  28.0            2.0"
            ]
          },
          "metadata": {
            "tags": []
          },
          "execution_count": 12
        }
      ]
    },
    {
      "cell_type": "code",
      "metadata": {
        "id": "Tms3ytqc47EX",
        "colab_type": "code",
        "colab": {
          "base_uri": "https://localhost:8080/",
          "height": 282
        },
        "outputId": "fa10ace7-77be-45c1-8549-3aae9d8ec2ad"
      },
      "source": [
        "print(np.unique(df['classificacao'].values))\n",
        "plt.scatter(df[['altura']][df.classificacao==0],df[['peso']][df.classificacao==0],c='red')\n",
        "plt.scatter(df[['altura']][df.classificacao==1],df[['peso']][df.classificacao==1],c='orange')\n",
        "plt.scatter(df[['altura']][df.classificacao==2],df[['peso']][df.classificacao==2],c='navy')\n",
        "plt.scatter(df[['altura']][df.classificacao==3],df[['peso']][df.classificacao==3],c='violet')\n",
        "plt.scatter(df[['altura']][df.classificacao==4],df[['peso']][df.classificacao==4],c='purple')\n",
        "plt.scatter(df[['altura']][df.classificacao==5],df[['peso']][df.classificacao==5],c='yellow')\n",
        "\n",
        "plt.show()"
      ],
      "execution_count": null,
      "outputs": [
        {
          "output_type": "stream",
          "text": [
            "[0. 1. 2. 3. 4. 5.]\n"
          ],
          "name": "stdout"
        },
        {
          "output_type": "display_data",
          "data": {
            "image/png": "[encoded data removed]",
            "text/plain": [
              "<Figure size 432x288 with 1 Axes>"
            ]
          },
          "metadata": {
            "tags": [],
            "needs_background": "light"
          }
        }
      ]
    },
    {
      "cell_type": "code",
      "metadata": {
        "id": "cQgZf_1L5NWt",
        "colab_type": "code",
        "colab": {
          "base_uri": "https://localhost:8080/",
          "height": 68
        },
        "outputId": "d293554a-981a-40d7-a4c8-9db61bcc70be"
      },
      "source": [
        "dado_treino,dado_teste,grupo_treino,grupo_teste = train_test_split(\n",
        "    df[['altura','peso']].values,\n",
        "    df['classificacao'].values,test_size=0.3)\n",
        "print('%d exemplos de treinamento' % len(dado_treino))\n",
        "print('%d exemplos de teste' % len(dado_teste))\n",
        "\n",
        "modelo = KNeighborsClassifier(n_neighbors=3)\n",
        "modelo.fit(dado_treino,grupo_treino)\n",
        "acerto = modelo.score(dado_teste,grupo_teste)\n",
        "acerto = acerto * 100\n",
        "print('Percentual de acerto: %.4f%%' % acerto)"
      ],
      "execution_count": null,
      "outputs": [
        {
          "output_type": "stream",
          "text": [
            "3248 exemplos de treinamento\n",
            "1393 exemplos de teste\n",
            "Percentual de acerto: 92.7495%\n"
          ],
          "name": "stdout"
        }
      ]
    },
    {
      "cell_type": "code",
      "metadata": {
        "id": "qUTi3gd-5qLI",
        "colab_type": "code",
        "colab": {}
      },
      "source": [
        "x= 100\n",
        "print ('Digite 99 no valor para sair')\n",
        "while(x!=99):\n",
        "  x = float(input('Informe altura(m): \\n'))\n",
        "  if(x!=99):\n",
        "    y = float(input('Informe peso (KG): \\n'))\n",
        "\n",
        "    ponto_a_ser_predito = [[x,y]]\n",
        "    predicao = modelo.predict(ponto_a_ser_predito)\n",
        "    if (predicao==0):\n",
        "      print('Abaixo do peso')\n",
        "    elif (predicao==1):\n",
        "      print('Peso ideal')\n",
        "    elif (predicao==2):\n",
        "      print('Levemente acima do peso')    \n",
        "    elif (predicao==3):\n",
        "      print('Obesidade I')\n",
        "    elif (predicao==4):\n",
        "      print('Obesidade II')    \n",
        "    elif (predicao==5):\n",
        "      print('Obesidade III')   "
      ],
      "execution_count": null,
      "outputs": []
    },
    {
      "cell_type": "markdown",
      "metadata": {
        "id": "N76vfOuUAEL-",
        "colab_type": "text"
      },
      "source": [
        "###Tratando Dados \n"
      ]
    },
    {
      "cell_type": "code",
      "metadata": {
        "id": "eG9g4FBl6WgJ",
        "colab_type": "code",
        "colab": {
          "base_uri": "https://localhost:8080/",
          "height": 282
        },
        "outputId": "f06adfa7-efe9-48a1-881f-977f586452b6"
      },
      "source": [
        "df2 = pd.read_csv('sample_data/imc1.csv')\n",
        "\n",
        "print(np.unique(df2['classificacao'].values))\n",
        "df2['alturacm'] = df2['altura'] * 100\n",
        "\n",
        "plt.scatter(df2[['alturacm']][df2.classificacao==0],df2[['peso']][df2.classificacao==0],c='red')\n",
        "plt.scatter(df2[['alturacm']][df2.classificacao==1],df2[['peso']][df2.classificacao==1],c='orange')\n",
        "plt.scatter(df2[['alturacm']][df2.classificacao==2],df2[['peso']][df2.classificacao==2],c='navy')\n",
        "plt.scatter(df2[['alturacm']][df2.classificacao==3],df2[['peso']][df2.classificacao==3],c='violet')\n",
        "plt.scatter(df2[['alturacm']][df2.classificacao==4],df2[['peso']][df2.classificacao==4],c='purple')\n",
        "plt.scatter(df2[['alturacm']][df2.classificacao==5],df2[['peso']][df2.classificacao==5],c='yellow')\n",
        "\n",
        "plt.show()"
      ],
      "execution_count": 53,
      "outputs": [
        {
          "output_type": "stream",
          "text": [
            "[0. 1. 2. 3. 4. 5.]\n"
          ],
          "name": "stdout"
        },
        {
          "output_type": "display_data",
          "data": {
            "image/png": "[encoded data removed]",
            "text/plain": [
              "<Figure size 432x288 with 1 Axes>"
            ]
          },
          "metadata": {
            "tags": [],
            "needs_background": "light"
          }
        }
      ]
    },
    {
      "cell_type": "code",
      "metadata": {
        "id": "HOcXUVMbAk1h",
        "colab_type": "code",
        "colab": {
          "base_uri": "https://localhost:8080/",
          "height": 68
        },
        "outputId": "5435f1ed-9882-4f14-af74-5df6ad9d9466"
      },
      "source": [
        "dado_treino,dado_teste,grupo_treino,grupo_teste = train_test_split(\n",
        "    df2[['altura','peso']].values,\n",
        "    df2['classificacao'].values,test_size=0.3)\n",
        "print('%d exemplos de treinamento' % len(dado_treino))\n",
        "print('%d exemplos de teste' % len(dado_teste))\n",
        "\n",
        "modelo2 = KNeighborsClassifier(n_neighbors=3)\n",
        "modelo2.fit(dado_treino,grupo_treino)\n",
        "acerto2 = modelo2.score(dado_teste,grupo_teste)\n",
        "acerto2 = acerto2 * 100\n",
        "print('Percentual de acerto: %.4f%%' % acerto2)"
      ],
      "execution_count": 59,
      "outputs": [
        {
          "output_type": "stream",
          "text": [
            "3248 exemplos de treinamento\n",
            "1393 exemplos de teste\n",
            "Percentual de acerto: 92.6777%\n"
          ],
          "name": "stdout"
        }
      ]
    },
    {
      "cell_type": "code",
      "metadata": {
        "id": "_lAI68ZqKLa1",
        "colab_type": "code",
        "colab": {}
      },
      "source": [
        "altura = 1\n",
        "while (altura!=0):\n",
        "  altura = float(input('informe altura (cm): \\n'))\n",
        "  if (altura!=0):\n",
        "    peso = float(input('informe peso (Kg): \\n'))\n",
        "    ponto_a_ser_predito = [[altura,peso]]\n",
        "    predicao = model.predict(ponto_a_ser_predito)\n",
        "    imc = peso / (altura*altura)\n",
        "    print(imc)\n",
        "    print(predicao[0])\n",
        "    if imc<18.5 and predicao[0]==0:\n",
        "      print('Acertou')\n",
        "    elif imc>=18.5 and imc<25 and predicao[0]==1:\n",
        "      print('Acertou')      \n",
        "    elif imc>=25 and imc<30 and predicao[0]==2:\n",
        "      print('Acertou')    \n",
        "    elif imc>=30 and imc<35 and predicao[0]==3:\n",
        "      print('Acertou')    \n",
        "    elif imc>=35 and imc<40 and predicao[0]==4:\n",
        "      print('Acertou')                \n",
        "    elif imc>=40 and predicao[0]==5:\n",
        "      print('Acertou')   \n",
        "    else:\n",
        "      print('Errou')     "
      ],
      "execution_count": null,
      "outputs": []
    }
  ]
}